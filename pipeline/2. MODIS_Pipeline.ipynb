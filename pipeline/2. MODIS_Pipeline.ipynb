{
 "cells": [
  {
   "cell_type": "markdown",
   "id": "documentary-insurance",
   "metadata": {},
   "source": [
    "# Deriving MODIS Data from GEE\n",
    "\n",
    "The notebook is focused on slicing chuncks of MODIS data on GEE and exporting it as .tif files to the Google Drive."
   ]
  },
  {
   "cell_type": "code",
   "execution_count": 6,
   "id": "secure-interface",
   "metadata": {},
   "outputs": [],
   "source": [
    "import numpy as np\n",
    "import pandas as pd\n",
    "import geopandas as gpd\n",
    "\n",
    "import time\n",
    "from datetime import datetime, timedelta\n",
    "from os import listdir\n",
    "from os.path import join\n",
    "\n",
    "import ee\n",
    "from utils_modis import extract_MODIS_chunk, bands, mod_names"
   ]
  },
  {
   "cell_type": "code",
   "execution_count": 7,
   "id": "statewide-medium",
   "metadata": {},
   "outputs": [],
   "source": [
    "gdf = gpd.read_file('../data_v02/gadm41_USA_1.json')\n",
    "states = ['Minnesota', 'Iowa', 'Wisconsin', 'NorthDakota', 'SouthDakota', 'Nebraska', 'Illinois', 'Indiana', 'Missouri', 'Michigan', 'Kansas']\n",
    "gdf = gdf[gdf.NAME_1.isin(states)].reset_index(drop=True)\n",
    "bbox = np.round(gdf.union_all().bounds)\n",
    "\n",
    "upper_midwest = ee.Geometry.Rectangle(list(bbox))"
   ]
  },
  {
   "cell_type": "code",
   "execution_count": 8,
   "id": "outside-border",
   "metadata": {},
   "outputs": [],
   "source": [
    "def mask(image):\n",
    "    qa = image.select(bands[-1])\n",
    "    \n",
    "    cloud = qa.bitwiseAnd(1 << 0).eq(1)\n",
    "    shadow = qa.bitwiseAnd(1 << 1).eq(1)\n",
    "    cirrus = qa.bitwiseAnd(1 << 2).eq(1)\n",
    "    \n",
    "    # Cloud or shadow or cirrus = 1, else 0\n",
    "    cloud_mask = cloud.Or(shadow).Or(cirrus).rename(mod_names[-1]).toInt16()\n",
    "\n",
    "    image = image.select(bands[:-1]).addBands(cloud_mask)\n",
    "    return image\n",
    "    \n",
    "def create_daily_export(date):\n",
    "    ee_date = ee.Date(date.strftime('%Y-%m-%d'))\n",
    "   \n",
    "    daily_modis = (ee.ImageCollection('MODIS/061/MOD09GA')\n",
    "        .filterBounds(upper_midwest)\n",
    "        .filterDate(ee_date, ee_date.advance(1, 'day'))\n",
    "    )\n",
    "\n",
    "    daily_image = daily_modis.first().select(bands[:-1])\n",
    "    #daily_image_masked = mask(daily_image)\n",
    "    task = ee.batch.Export.image.toDrive(image=daily_image, description=f'MODIS_{date.year}_{date.day_of_year}', scale=500, \n",
    "                                      region=upper_midwest, maxPixels=1e10, folder=None)\n",
    "   \n",
    "    return task"
   ]
  },
  {
   "cell_type": "code",
   "execution_count": null,
   "id": "reliable-drunk",
   "metadata": {},
   "outputs": [],
   "source": [
    "start_date = pd.to_datetime('2020-01-01')\n",
    "end_date = pd.to_datetime('2020-12-31')\n",
    "\n",
    "current_date = start_date\n",
    "tasks = []\n",
    "t = time.time()\n",
    "\n",
    "'''Download MODIS without the cloud band'''\n",
    "while current_date <= end_date:\n",
    "    task = create_daily_export(current_date)\n",
    "    task.start()\n",
    "    tasks.append(task)\n",
    "    \n",
    "    if len(tasks) >= 10:\n",
    "        tasks = [t for t in tasks if t.status()['state'] not in ['COMPLETED', 'FAILED']]\n",
    "        time.sleep(10)\n",
    "   \n",
    "    current_date += timedelta(days=1)\n",
    "    \n",
    "print(f\"All tasks submitted! Time: {round((time.time()-t)/60,3)} min\")"
   ]
  }
 ],
 "metadata": {
  "kernelspec": {
   "display_name": "ET_lightgbm",
   "language": "python",
   "name": "et_lightgbm"
  },
  "language_info": {
   "codemirror_mode": {
    "name": "ipython",
    "version": 3
   },
   "file_extension": ".py",
   "mimetype": "text/x-python",
   "name": "python",
   "nbconvert_exporter": "python",
   "pygments_lexer": "ipython3",
   "version": "3.13.2"
  }
 },
 "nbformat": 4,
 "nbformat_minor": 5
}
