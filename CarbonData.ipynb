{
 "cells": [
  {
   "cell_type": "code",
   "execution_count": 1,
   "id": "8f356306-587b-4811-be09-ce377a31deb8",
   "metadata": {},
   "outputs": [],
   "source": [
    "import pandas as pd\n",
    "import zipfile\n",
    "from os import listdir\n",
    "from os.path import join"
   ]
  },
  {
   "cell_type": "code",
   "execution_count": 3,
   "id": "32a6068a-9fa6-43a9-8788-1832d89fa3ac",
   "metadata": {},
   "outputs": [],
   "source": [
    "ameri_path = '/home/aleksei/Carbon/data/AmeriFlux'\n",
    "flux_path = '/home/aleksei/Carbon/data/FLUXNET2015'\n",
    "\n",
    "ameri_files = listdir(ameri_path)\n",
    "flux_files = listdir(flux_path)"
   ]
  },
  {
   "cell_type": "code",
   "execution_count": 14,
   "id": "c88154b8-fb2d-4f24-927e-6faa47d7577f",
   "metadata": {},
   "outputs": [
    {
     "name": "stdout",
     "output_type": "stream",
     "text": [
      "2 Ameri archives unzipped\n",
      "2 FLUXNET2015 archives unzipped\n"
     ]
    }
   ],
   "source": [
    "for f in ameri_files:\n",
    "    i=0\n",
    "    with zipfile.ZipFile(join(ameri_path, f), 'r') as zip_ref:\n",
    "        new_name = '_'.join(f.split('_')[:2])\n",
    "        zip_ref.extractall(join(ameri_path, new_name))\n",
    "    i+=1\n",
    "print(f\"{i+1} Ameri archives unzipped\")\n",
    "for f in flux_files:\n",
    "    i=0\n",
    "    with zipfile.ZipFile(join(flux_path, f), 'r') as zip_ref:\n",
    "        new_name = '_'.join(f.split('_')[:2])\n",
    "        zip_ref.extractall(join(flux_path, new_name))\n",
    "    i+=1\n",
    "print(f\"{i+1} FLUXNET2015 archives unzipped\")"
   ]
  },
  {
   "cell_type": "code",
   "execution_count": 4,
   "id": "545ca197-24f1-4cfd-876c-0a004be6f3b3",
   "metadata": {},
   "outputs": [],
   "source": [
    "mode = 'LE'"
   ]
  },
  {
   "cell_type": "code",
   "execution_count": 5,
   "id": "6aaba96d-0187-4299-bc41-ac2ed8f7e854",
   "metadata": {},
   "outputs": [],
   "source": [
    "flux_meta = 'FLX_AA-Flx'\n",
    "if mode=='NEE':\n",
    "    cols = ['TIMESTAMP', 'NEE_VUT_REF', 'NEE_VUT_REF_QC']\n",
    "    QC = 'NEE_VUT_REF_QC'\n",
    "elif mode=='LE':\n",
    "    cols = ['TIMESTAMP', 'LE_F_MDS', 'LE_F_MDS_QC']\n",
    "    QC = 'LE_F_MDS_QC'\n",
    "flux_dir = [x for x in listdir(flux_path) if (x.split('.')[-1]!='zip')&(x!=flux_meta)]\n",
    "ameri_dir = [x for x in listdir(ameri_path) if (x.split('.')[-1]!='zip')]"
   ]
  },
  {
   "cell_type": "code",
   "execution_count": 22,
   "id": "084cd395-bea0-4b16-9c43-c5f938c9756b",
   "metadata": {
    "scrolled": true
   },
   "outputs": [],
   "source": [
    "for folder in flux_dir:\n",
    "    csv = [x for x in listdir(join(flux_path, folder)) if (x.split('_')[3]=='FULLSET')&(x.split('_')[4]=='DD')][0]\n",
    "    df = pd.read_csv(join(flux_path, folder, csv))[cols]\n",
    "    df = df[df[QC]>=0.9]\n",
    "    df['site'] = ['_'.join(csv.split('_')[:2])]*len(df)\n",
    "    if 'data' not in locals():\n",
    "        data = df.copy()\n",
    "    else:\n",
    "        data=pd.concat([data,df], axis=0)\n",
    "data = data.reset_index(drop=True)\n",
    "data.to_csv(f'./data/all_fluxnet_{mode}.csv', index=None)\n",
    "\n",
    "for folder in ameri_dir:\n",
    "    csv = [x for x in listdir(join(ameri_path, folder)) if (x.split('_')[3]=='FULLSET')&(x.split('_')[4]=='DD')][0]\n",
    "    df = pd.read_csv(join(ameri_path, folder, csv))[cols]\n",
    "    df = df[df[QC]>=0.9]\n",
    "    df['site'] = ['_'.join(csv.split('_')[:2])]*len(df)\n",
    "    if 'data_ameri' not in locals():\n",
    "        data_ameri = df.copy()\n",
    "    else:\n",
    "        data_ameri=pd.concat([data_ameri,df], axis=0)\n",
    "data_ameri = data_ameri.reset_index(drop=True)\n",
    "data_ameri.to_csv(f'./data/all_ameri_{mode}.csv', index=None)\n",
    "\n",
    "all_data = pd.concat([data, data_ameri], axis=0).reset_index(drop=True)\n",
    "all_data.to_csv(f'./data/all_fluxes_{mode}.csv', index=None)"
   ]
  }
 ],
 "metadata": {
  "kernelspec": {
   "display_name": "Python 3 (ipykernel)",
   "language": "python",
   "name": "python3"
  },
  "language_info": {
   "codemirror_mode": {
    "name": "ipython",
    "version": 3
   },
   "file_extension": ".py",
   "mimetype": "text/x-python",
   "name": "python",
   "nbconvert_exporter": "python",
   "pygments_lexer": "ipython3",
   "version": "3.10.12"
  }
 },
 "nbformat": 4,
 "nbformat_minor": 5
}
