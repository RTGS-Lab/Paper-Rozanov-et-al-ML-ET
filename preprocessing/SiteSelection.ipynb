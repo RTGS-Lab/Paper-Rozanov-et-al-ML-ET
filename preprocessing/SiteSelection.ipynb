{
 "cells": [
  {
   "cell_type": "code",
   "execution_count": 1,
   "id": "anticipated-surface",
   "metadata": {},
   "outputs": [],
   "source": [
    "import pandas as pd\n",
    "import shapely\n",
    "import geopandas as gpd\n",
    "\n",
    "from os import listdir\n",
    "from os.path import join\n",
    "\n",
    "import matplotlib.pyplot as plt"
   ]
  },
  {
   "cell_type": "markdown",
   "id": "reported-example",
   "metadata": {},
   "source": [
    "- Minnesota, Iowa, Wisconsin, North Dakota, South Dakota, Nebraska, Illinois, Indiana, Missouri, Michigan, Kansas"
   ]
  },
  {
   "cell_type": "code",
   "execution_count": 7,
   "id": "noted-testimony",
   "metadata": {},
   "outputs": [
    {
     "data": {
      "text/plain": [
       "<Axes: >"
      ]
     },
     "execution_count": 7,
     "metadata": {},
     "output_type": "execute_result"
    },
    {
     "data": {
      "image/png": "[encoded data removed]",
      "text/plain": [
       "<Figure size 640x480 with 1 Axes>"
      ]
     },
     "metadata": {},
     "output_type": "display_data"
    }
   ],
   "source": [
    "gdf = gpd.read_file('../data/gadm41_USA_1.json')\n",
    "states = ['Minnesota', 'Iowa', 'Wisconsin', 'NorthDakota', 'SouthDakota', 'Nebraska', 'Illinois', 'Indiana', 'Missouri', 'Michigan', 'Kansas']\n",
    "gdf = gdf[gdf.NAME_1.isin(states)].reset_index(drop=True)\n",
    "gdf.plot()"
   ]
  },
  {
   "cell_type": "code",
   "execution_count": 14,
   "id": "internal-legislation",
   "metadata": {},
   "outputs": [
    {
     "data": {
      "text/html": [
       "<div>\n",
       "<style scoped>\n",
       "    .dataframe tbody tr th:only-of-type {\n",
       "        vertical-align: middle;\n",
       "    }\n",
       "\n",
       "    .dataframe tbody tr th {\n",
       "        vertical-align: top;\n",
       "    }\n",
       "\n",
       "    .dataframe thead th {\n",
       "        text-align: right;\n",
       "    }\n",
       "</style>\n",
       "<table border=\"1\" class=\"dataframe\">\n",
       "  <thead>\n",
       "    <tr style=\"text-align: right;\">\n",
       "      <th></th>\n",
       "      <th>TIMESTAMP</th>\n",
       "      <th>LE_F_MDS</th>\n",
       "      <th>LE_F_MDS_QC</th>\n",
       "      <th>NETRAD</th>\n",
       "      <th>G_F_MDS</th>\n",
       "      <th>TA_F</th>\n",
       "      <th>VPD_F</th>\n",
       "      <th>WS_F</th>\n",
       "      <th>PA_F</th>\n",
       "      <th>site</th>\n",
       "      <th>H_F_MDS</th>\n",
       "      <th>lat</th>\n",
       "      <th>lon</th>\n",
       "      <th>IGBP</th>\n",
       "      <th>geometry</th>\n",
       "    </tr>\n",
       "  </thead>\n",
       "  <tbody>\n",
       "    <tr>\n",
       "      <th>0</th>\n",
       "      <td>20041003</td>\n",
       "      <td>8.205</td>\n",
       "      <td>1.0</td>\n",
       "      <td>12.1258333333</td>\n",
       "      <td>-2.44212</td>\n",
       "      <td>5.506</td>\n",
       "      <td>1.954</td>\n",
       "      <td>2.061</td>\n",
       "      <td>100.232</td>\n",
       "      <td>FLX_FI-Hyy</td>\n",
       "      <td>-2.07875</td>\n",
       "      <td>61.8474</td>\n",
       "      <td>24.2948</td>\n",
       "      <td>ENF</td>\n",
       "      <td>POINT (24.2948 61.8474)</td>\n",
       "    </tr>\n",
       "    <tr>\n",
       "      <th>1</th>\n",
       "      <td>20041004</td>\n",
       "      <td>15.9958</td>\n",
       "      <td>1.0</td>\n",
       "      <td>16.200625</td>\n",
       "      <td>-2.40884</td>\n",
       "      <td>7.068</td>\n",
       "      <td>2.556</td>\n",
       "      <td>2.466</td>\n",
       "      <td>100.023</td>\n",
       "      <td>FLX_FI-Hyy</td>\n",
       "      <td>0.123958</td>\n",
       "      <td>61.8474</td>\n",
       "      <td>24.2948</td>\n",
       "      <td>ENF</td>\n",
       "      <td>POINT (24.2948 61.8474)</td>\n",
       "    </tr>\n",
       "    <tr>\n",
       "      <th>2</th>\n",
       "      <td>20041005</td>\n",
       "      <td>3.31297</td>\n",
       "      <td>1.0</td>\n",
       "      <td>7.46645833333</td>\n",
       "      <td>-2.38404</td>\n",
       "      <td>9.594</td>\n",
       "      <td>1.155</td>\n",
       "      <td>4.287</td>\n",
       "      <td>98.919</td>\n",
       "      <td>FLX_FI-Hyy</td>\n",
       "      <td>-23.3258</td>\n",
       "      <td>61.8474</td>\n",
       "      <td>24.2948</td>\n",
       "      <td>ENF</td>\n",
       "      <td>POINT (24.2948 61.8474)</td>\n",
       "    </tr>\n",
       "    <tr>\n",
       "      <th>3</th>\n",
       "      <td>20041006</td>\n",
       "      <td>8.35042</td>\n",
       "      <td>1.0</td>\n",
       "      <td>14.378125</td>\n",
       "      <td>-2.43525</td>\n",
       "      <td>7.996</td>\n",
       "      <td>1.489</td>\n",
       "      <td>2.754</td>\n",
       "      <td>98.337</td>\n",
       "      <td>FLX_FI-Hyy</td>\n",
       "      <td>-11.6769</td>\n",
       "      <td>61.8474</td>\n",
       "      <td>24.2948</td>\n",
       "      <td>ENF</td>\n",
       "      <td>POINT (24.2948 61.8474)</td>\n",
       "    </tr>\n",
       "    <tr>\n",
       "      <th>4</th>\n",
       "      <td>20041007</td>\n",
       "      <td>3.64304</td>\n",
       "      <td>1.0</td>\n",
       "      <td>14.1252083333</td>\n",
       "      <td>-2.40884</td>\n",
       "      <td>8.248</td>\n",
       "      <td>1.756</td>\n",
       "      <td>3.872</td>\n",
       "      <td>98.308</td>\n",
       "      <td>FLX_FI-Hyy</td>\n",
       "      <td>-14.7854</td>\n",
       "      <td>61.8474</td>\n",
       "      <td>24.2948</td>\n",
       "      <td>ENF</td>\n",
       "      <td>POINT (24.2948 61.8474)</td>\n",
       "    </tr>\n",
       "    <tr>\n",
       "      <th>...</th>\n",
       "      <td>...</td>\n",
       "      <td>...</td>\n",
       "      <td>...</td>\n",
       "      <td>...</td>\n",
       "      <td>...</td>\n",
       "      <td>...</td>\n",
       "      <td>...</td>\n",
       "      <td>...</td>\n",
       "      <td>...</td>\n",
       "      <td>...</td>\n",
       "      <td>...</td>\n",
       "      <td>...</td>\n",
       "      <td>...</td>\n",
       "      <td>...</td>\n",
       "      <td>...</td>\n",
       "    </tr>\n",
       "    <tr>\n",
       "      <th>528313</th>\n",
       "      <td>20111119</td>\n",
       "      <td>0.72118</td>\n",
       "      <td>1.0</td>\n",
       "      <td>-50.226854583333335</td>\n",
       "      <td>-6.98208</td>\n",
       "      <td>-14.223</td>\n",
       "      <td>0.529</td>\n",
       "      <td>3.85</td>\n",
       "      <td>97.689</td>\n",
       "      <td>AMF_CA-MA2</td>\n",
       "      <td>-10.7892</td>\n",
       "      <td>50.171</td>\n",
       "      <td>-97.8762</td>\n",
       "      <td>CRO</td>\n",
       "      <td>POINT (-97.8762 50.171)</td>\n",
       "    </tr>\n",
       "    <tr>\n",
       "      <th>528314</th>\n",
       "      <td>20111120</td>\n",
       "      <td>0.638906</td>\n",
       "      <td>1.0</td>\n",
       "      <td>-35.37474583333333</td>\n",
       "      <td>-9.48562</td>\n",
       "      <td>-14.157</td>\n",
       "      <td>0.413</td>\n",
       "      <td>3.685</td>\n",
       "      <td>98.774</td>\n",
       "      <td>AMF_CA-MA2</td>\n",
       "      <td>-10.1051</td>\n",
       "      <td>50.171</td>\n",
       "      <td>-97.8762</td>\n",
       "      <td>CRO</td>\n",
       "      <td>POINT (-97.8762 50.171)</td>\n",
       "    </tr>\n",
       "    <tr>\n",
       "      <th>528315</th>\n",
       "      <td>20111121</td>\n",
       "      <td>0.547386</td>\n",
       "      <td>1.0</td>\n",
       "      <td>-50.23417916666667</td>\n",
       "      <td>-12.3033</td>\n",
       "      <td>-13.739</td>\n",
       "      <td>0.378</td>\n",
       "      <td>2.445</td>\n",
       "      <td>97.603</td>\n",
       "      <td>AMF_CA-MA2</td>\n",
       "      <td>-8.87983</td>\n",
       "      <td>50.171</td>\n",
       "      <td>-97.8762</td>\n",
       "      <td>CRO</td>\n",
       "      <td>POINT (-97.8762 50.171)</td>\n",
       "    </tr>\n",
       "    <tr>\n",
       "      <th>528316</th>\n",
       "      <td>20111122</td>\n",
       "      <td>0.863575</td>\n",
       "      <td>1.0</td>\n",
       "      <td>-58.28176041666666</td>\n",
       "      <td>-6.29926</td>\n",
       "      <td>-3.963</td>\n",
       "      <td>0.782</td>\n",
       "      <td>4.965</td>\n",
       "      <td>97.838</td>\n",
       "      <td>AMF_CA-MA2</td>\n",
       "      <td>-15.0322</td>\n",
       "      <td>50.171</td>\n",
       "      <td>-97.8762</td>\n",
       "      <td>CRO</td>\n",
       "      <td>POINT (-97.8762 50.171)</td>\n",
       "    </tr>\n",
       "    <tr>\n",
       "      <th>528317</th>\n",
       "      <td>20111125</td>\n",
       "      <td>0.615793</td>\n",
       "      <td>0.979167</td>\n",
       "      <td>8.820646458333334</td>\n",
       "      <td>-4.43009</td>\n",
       "      <td>-1.135</td>\n",
       "      <td>0.659</td>\n",
       "      <td>2.378</td>\n",
       "      <td>99.174</td>\n",
       "      <td>AMF_CA-MA2</td>\n",
       "      <td>-16.8153</td>\n",
       "      <td>50.171</td>\n",
       "      <td>-97.8762</td>\n",
       "      <td>CRO</td>\n",
       "      <td>POINT (-97.8762 50.171)</td>\n",
       "    </tr>\n",
       "  </tbody>\n",
       "</table>\n",
       "<p>528318 rows × 15 columns</p>\n",
       "</div>"
      ],
      "text/plain": [
       "       TIMESTAMP  LE_F_MDS LE_F_MDS_QC               NETRAD   G_F_MDS  \\\n",
       "0       20041003     8.205         1.0        12.1258333333  -2.44212   \n",
       "1       20041004   15.9958         1.0            16.200625  -2.40884   \n",
       "2       20041005   3.31297         1.0        7.46645833333  -2.38404   \n",
       "3       20041006   8.35042         1.0            14.378125  -2.43525   \n",
       "4       20041007   3.64304         1.0        14.1252083333  -2.40884   \n",
       "...          ...       ...         ...                  ...       ...   \n",
       "528313  20111119   0.72118         1.0  -50.226854583333335  -6.98208   \n",
       "528314  20111120  0.638906         1.0   -35.37474583333333  -9.48562   \n",
       "528315  20111121  0.547386         1.0   -50.23417916666667  -12.3033   \n",
       "528316  20111122  0.863575         1.0   -58.28176041666666  -6.29926   \n",
       "528317  20111125  0.615793    0.979167    8.820646458333334  -4.43009   \n",
       "\n",
       "           TA_F  VPD_F   WS_F     PA_F        site   H_F_MDS      lat  \\\n",
       "0         5.506  1.954  2.061  100.232  FLX_FI-Hyy  -2.07875  61.8474   \n",
       "1         7.068  2.556  2.466  100.023  FLX_FI-Hyy  0.123958  61.8474   \n",
       "2         9.594  1.155  4.287   98.919  FLX_FI-Hyy  -23.3258  61.8474   \n",
       "3         7.996  1.489  2.754   98.337  FLX_FI-Hyy  -11.6769  61.8474   \n",
       "4         8.248  1.756  3.872   98.308  FLX_FI-Hyy  -14.7854  61.8474   \n",
       "...         ...    ...    ...      ...         ...       ...      ...   \n",
       "528313  -14.223  0.529   3.85   97.689  AMF_CA-MA2  -10.7892   50.171   \n",
       "528314  -14.157  0.413  3.685   98.774  AMF_CA-MA2  -10.1051   50.171   \n",
       "528315  -13.739  0.378  2.445   97.603  AMF_CA-MA2  -8.87983   50.171   \n",
       "528316   -3.963  0.782  4.965   97.838  AMF_CA-MA2  -15.0322   50.171   \n",
       "528317   -1.135  0.659  2.378   99.174  AMF_CA-MA2  -16.8153   50.171   \n",
       "\n",
       "             lon IGBP                 geometry  \n",
       "0        24.2948  ENF  POINT (24.2948 61.8474)  \n",
       "1        24.2948  ENF  POINT (24.2948 61.8474)  \n",
       "2        24.2948  ENF  POINT (24.2948 61.8474)  \n",
       "3        24.2948  ENF  POINT (24.2948 61.8474)  \n",
       "4        24.2948  ENF  POINT (24.2948 61.8474)  \n",
       "...          ...  ...                      ...  \n",
       "528313  -97.8762  CRO  POINT (-97.8762 50.171)  \n",
       "528314  -97.8762  CRO  POINT (-97.8762 50.171)  \n",
       "528315  -97.8762  CRO  POINT (-97.8762 50.171)  \n",
       "528316  -97.8762  CRO  POINT (-97.8762 50.171)  \n",
       "528317  -97.8762  CRO  POINT (-97.8762 50.171)  \n",
       "\n",
       "[528318 rows x 15 columns]"
      ]
     },
     "execution_count": 14,
     "metadata": {},
     "output_type": "execute_result"
    }
   ],
   "source": [
    "fluxes = gpd.read_file('../data/target_fluxes_all_LE.csv')\n",
    "fluxes['geometry'] = [shapely.geometry.Point([row['lon'], row['lat']]) for _, row in fluxes.iterrows()]\n",
    "fluxes = gpd.GeoDataFrame(fluxes).set_crs(gdf.crs)\n",
    "fluxes"
   ]
  },
  {
   "cell_type": "code",
   "execution_count": 9,
   "id": "leading-inside",
   "metadata": {},
   "outputs": [
    {
     "data": {
      "text/plain": [
       "<Axes: >"
      ]
     },
     "execution_count": 9,
     "metadata": {},
     "output_type": "execute_result"
    },
    {
     "data": {
      "image/png": "[encoded data removed]",
      "text/plain": [
       "<Figure size 640x480 with 1 Axes>"
      ]
     },
     "metadata": {},
     "output_type": "display_data"
    }
   ],
   "source": [
    "sites = fluxes[['geometry', 'site', 'IGBP']].drop_duplicates()\n",
    "sites = gpd.sjoin(sites, gdf, how='inner')[['geometry', 'site', 'IGBP']]\n",
    "sites.plot()"
   ]
  },
  {
   "cell_type": "code",
   "execution_count": 11,
   "id": "cleared-greene",
   "metadata": {},
   "outputs": [
    {
     "name": "stdout",
     "output_type": "stream",
     "text": [
      "Total Observations: 76819\tIGBP types: 7\n"
     ]
    }
   ],
   "source": [
    "fluxes = fluxes[fluxes['site'].isin(sites.site)]\n",
    "print(f'Total Observations: {len(fluxes)}\\tIGBP types: {len(fluxes.IGBP.unique())}')"
   ]
  },
  {
   "cell_type": "code",
   "execution_count": 15,
   "id": "electric-shepherd",
   "metadata": {},
   "outputs": [
    {
     "data": {
      "text/plain": [
       "<Axes: >"
      ]
     },
     "execution_count": 15,
     "metadata": {},
     "output_type": "execute_result"
    },
    {
     "data": {
      "image/png": "[encoded data removed]",
      "text/plain": [
       "<Figure size 1600x900 with 1 Axes>"
      ]
     },
     "metadata": {},
     "output_type": "display_data"
    }
   ],
   "source": [
    "fig, ax = plt.subplots(figsize=(16,9))\n",
    "gdf.plot(ax=ax, color='black')\n",
    "sites.plot(ax=ax, column='IGBP', marker='x')\n",
    "fluxes.plot(ax=ax, marker='o')"
   ]
  },
  {
   "cell_type": "code",
   "execution_count": 79,
   "id": "entertaining-cylinder",
   "metadata": {},
   "outputs": [],
   "source": [
    "fluxes.drop('geometry', axis=1).to_csv('./data/LE_flux_dataset.csv')"
   ]
  }
 ],
 "metadata": {
  "kernelspec": {
   "display_name": "ET_lightgbm",
   "language": "python",
   "name": "et_lightgbm"
  },
  "language_info": {
   "codemirror_mode": {
    "name": "ipython",
    "version": 3
   },
   "file_extension": ".py",
   "mimetype": "text/x-python",
   "name": "python",
   "nbconvert_exporter": "python",
   "pygments_lexer": "ipython3",
   "version": "3.13.2"
  }
 },
 "nbformat": 4,
 "nbformat_minor": 5
}
