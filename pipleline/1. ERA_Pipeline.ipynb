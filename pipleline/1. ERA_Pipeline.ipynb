{
 "cells": [
  {
   "cell_type": "markdown",
   "id": "consistent-drink",
   "metadata": {},
   "source": [
    "# Deriving ERA5 Data from GEE\n",
    "\n",
    "The notebook is focused on slicing chuncks of ERA5 data on GEE and exporting it as .tif files to the Google Drive."
   ]
  },
  {
   "cell_type": "code",
   "execution_count": null,
   "id": "compatible-syndicate",
   "metadata": {},
   "outputs": [],
   "source": [
    "import numpy as np\n",
    "import pandas as pd\n",
    "import geopandas as gpd\n",
    "\n",
    "import time\n",
    "from datetime import datetime, timedelta\n",
    "from os import listdir\n",
    "from os.path import join\n",
    "\n",
    "from src.utils_era import extract_era5_chunk, bands"
   ]
  },
  {
   "cell_type": "code",
   "execution_count": 2,
   "id": "veterinary-supplement",
   "metadata": {},
   "outputs": [],
   "source": [
    "gdf = gpd.read_file('../data_v02/gadm41_USA_1.json')\n",
    "states = ['Minnesota', 'Iowa', 'Wisconsin', 'NorthDakota', 'SouthDakota', 'Nebraska', 'Illinois', 'Indiana', 'Missouri', 'Michigan', 'Kansas']\n",
    "gdf = gdf[gdf.NAME_1.isin(states)].reset_index(drop=True)\n",
    "bbox = np.round(gdf.union_all().bounds)"
   ]
  },
  {
   "cell_type": "code",
   "execution_count": 79,
   "id": "fluid-laugh",
   "metadata": {},
   "outputs": [],
   "source": [
    "def create_daily_export(date):\n",
    "    ee_date = ee.Date(date.strftime('%Y-%m-%d'))\n",
    "   \n",
    "    daily_era5 = (ee.ImageCollection('ECMWF/ERA5_LAND/DAILY')\n",
    "        .filterBounds(upper_midwest)\n",
    "        .filterDate(ee_date, ee_date.advance(1, 'day'))\n",
    "    )\n",
    "\n",
    "    daily_image = daily_era5.first().select(bands)\n",
    "\n",
    "    task = ee.batch.Export.image.toDrive(image=filtered_era5.first(), description=f'ERA5_{date.year}_{date.day_of_year}', scale=11132, \n",
    "                                      region=upper_midwest, maxPixels=1e10, folder=None)\n",
    "   \n",
    "    return task"
   ]
  },
  {
   "cell_type": "code",
   "execution_count": 80,
   "id": "stone-rapid",
   "metadata": {},
   "outputs": [
    {
     "name": "stdout",
     "output_type": "stream",
     "text": [
      "All tasks submitted! Time: 138.91 min\n"
     ]
    }
   ],
   "source": [
    "start_date = pd.to_datetime('2018-12-01')\n",
    "end_date = pd.to_datetime('2023-12-31')\n",
    "\n",
    "current_date = start_date\n",
    "tasks = []\n",
    "t = time.time()\n",
    "while current_date <= end_date:\n",
    "    task = create_daily_export(current_date)\n",
    "    task.start()\n",
    "    tasks.append(task)\n",
    "    \n",
    "    if len(tasks) >= 10:\n",
    "        tasks = [t for t in tasks if t.status()['state'] not in ['COMPLETED', 'FAILED']]\n",
    "        time.sleep(10)\n",
    "   \n",
    "    current_date += timedelta(days=1)\n",
    "    \n",
    "print(f\"All tasks submitted! Time: {round((time.time()-t)/60,3)} min\")"
   ]
  }
 ],
 "metadata": {
  "kernelspec": {
   "display_name": "ET_lightgbm",
   "language": "python",
   "name": "et_lightgbm"
  },
  "language_info": {
   "codemirror_mode": {
    "name": "ipython",
    "version": 3
   },
   "file_extension": ".py",
   "mimetype": "text/x-python",
   "name": "python",
   "nbconvert_exporter": "python",
   "pygments_lexer": "ipython3",
   "version": "3.13.2"
  }
 },
 "nbformat": 4,
 "nbformat_minor": 5
}
